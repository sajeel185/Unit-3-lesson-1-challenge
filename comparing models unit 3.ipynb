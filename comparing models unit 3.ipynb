{
 "cells": [
  {
   "cell_type": "code",
   "execution_count": 45,
   "metadata": {},
   "outputs": [],
   "source": [
    "import math\n",
    "import warnings\n",
    "\n",
    "from IPython.display import display\n",
    "from matplotlib import pyplot as plt\n",
    "%matplotlib inline\n",
    "\n",
    "import numpy as np\n",
    "import pandas as pd\n",
    "import seaborn as sns\n",
    "from sklearn import linear_model\n",
    "import statsmodels.formula.api as smf\n",
    "import re\n",
    "from sklearn.model_selection import train_test_split\n",
    "from sklearn.metrics import mean_squared_error, r2_score"
   ]
  },
  {
   "cell_type": "code",
   "execution_count": 46,
   "metadata": {
    "scrolled": true
   },
   "outputs": [],
   "source": [
    "df = pd.read_csv('new york crime.csv')\n",
    "df = df.drop_duplicates()\n",
    "df = df.fillna(0)\n",
    "\n",
    "#print(df.head())\n",
    "#print(df.shape)"
   ]
  },
  {
   "cell_type": "code",
   "execution_count": 47,
   "metadata": {},
   "outputs": [],
   "source": [
    "df['Population'] = df['Population'].str.replace(',','')\n",
    "pop_numeric = pd.to_numeric(df['Population'])\n",
    "df['PopSquared'] = pop_numeric ** 2\n",
    "\n",
    "#print(df['PopSquared'])\n"
   ]
  },
  {
   "cell_type": "code",
   "execution_count": 48,
   "metadata": {},
   "outputs": [
    {
     "name": "stdout",
     "output_type": "stream",
     "text": [
      "                       City Population Violent\\ncrime  \\\n",
      "0             Adams Village       1861              0   \n",
      "1  Addison Town and Village       2577              3   \n",
      "2             Akron Village       2846              3   \n",
      "3                    Albany      97956            791   \n",
      "4            Albion Village       6388             23   \n",
      "\n",
      "   Murder and\\nnonnegligent\\nmanslaughter  Rape\\n(revised\\ndefinition)1  \\\n",
      "0                                       0                           0.0   \n",
      "1                                       0                           0.0   \n",
      "2                                       0                           0.0   \n",
      "3                                       8                           0.0   \n",
      "4                                       0                           0.0   \n",
      "\n",
      "  Rape\\n(legacy\\ndefinition)2 Robbery Aggravated\\nassault Property\\ncrime  \\\n",
      "0                           0       0                   0              12   \n",
      "1                           0       0                   3              24   \n",
      "2                           0       0                   3              16   \n",
      "3                          30     227                 526           4,090   \n",
      "4                           3       4                  16             223   \n",
      "\n",
      "  Burglary Larceny-\\ntheft Motor\\nvehicle\\ntheft  Arson3  PopSquared  \\\n",
      "0        2              10                     0     0.0     3463321   \n",
      "1        3              20                     1     0.0     6640929   \n",
      "2        1              15                     0     0.0     8099716   \n",
      "3      705            3243                   142     0.0  9595377936   \n",
      "4       53             165                     5     0.0    40806544   \n",
      "\n",
      "   IndicateMurder  IndicateRobbery  IndicateLarceny  IndicateBurglary  \\\n",
      "0               0                0                1                 1   \n",
      "1               0                0                1                 1   \n",
      "2               0                0                1                 1   \n",
      "3               1                1                1                 1   \n",
      "4               0                1                1                 1   \n",
      "\n",
      "   IndicateGTA  IndicateArson  \n",
      "0            0              0  \n",
      "1            1              0  \n",
      "2            0              0  \n",
      "3            1              0  \n",
      "4            1              0  \n"
     ]
    }
   ],
   "source": [
    "df['IndicateMurder'] = np.where(df['Murder and\\nnonnegligent\\nmanslaughter'] > 0, 1, 0)\n",
    "r_numeric = pd.to_numeric(df['Robbery'], errors='coerce').fillna(0)\n",
    "df['IndicateRobbery'] = np.where(r_numeric > 0, 1, 0)\n",
    "\n",
    "df['Larceny-\\ntheft'] = df['Larceny-\\ntheft'].str.replace(',','')\n",
    "larceny_numeric = pd.to_numeric(df['Larceny-\\ntheft'])\n",
    "df['IndicateLarceny'] = np.where(larceny_numeric > 0, 1, 0)\n",
    "\n",
    "df['Burglary'] = df['Burglary'].str.replace(',','')\n",
    "burglary_numeric = pd.to_numeric(df['Burglary'])\n",
    "df['IndicateBurglary'] = np.where(burglary_numeric > 0, 1, 0)\n",
    "\n",
    "df['Motor\\nvehicle\\ntheft'] = df['Motor\\nvehicle\\ntheft'].str.replace(',','')\n",
    "gta_numeric = pd.to_numeric(df['Motor\\nvehicle\\ntheft'])\n",
    "df['IndicateGTA'] = np.where(gta_numeric > 0, 1, 0)\n",
    "\n",
    "df['IndicateArson'] = df['Arson3'].astype(int)\n",
    "\n",
    "\n",
    "print(df.head())"
   ]
  },
  {
   "cell_type": "markdown",
   "metadata": {},
   "source": [
    "## OLS MODEL:"
   ]
  },
  {
   "cell_type": "code",
   "execution_count": 49,
   "metadata": {},
   "outputs": [
    {
     "name": "stdout",
     "output_type": "stream",
     "text": [
      "\n",
      "Coefficients: \n",
      " [ 2.00853023e-09  1.24672326e+02 -2.00368759e+01  3.19143252e+02\n",
      "  7.35847914e+01]\n",
      "\n",
      "Intercept: \n",
      " -30.92285922399276\n",
      "\n",
      "R-squared:\n",
      "0.9893782943763039\n"
     ]
    }
   ],
   "source": [
    "df['Property\\ncrime'] = df['Property\\ncrime'].str.replace(',','')\n",
    "pd.to_numeric(df['Property\\ncrime'])\n",
    "\n",
    "# Instantiate and fit our model.\n",
    "regr = linear_model.LinearRegression()\n",
    "Y = df['Property\\ncrime']\n",
    "X = df[['PopSquared', 'IndicateBurglary', 'IndicateLarceny', 'IndicateGTA', 'IndicateArson']]\n",
    "#split the data into training set\n",
    "X_train = X.iloc[:278]\n",
    "Y_train = Y.iloc[:278]\n",
    "\n",
    "\n",
    "regr.fit(X_train, Y_train)\n",
    "\n",
    "# Inspect the results.\n",
    "print('\\nCoefficients: \\n', regr.coef_)\n",
    "print('\\nIntercept: \\n', regr.intercept_)\n",
    "print('\\nR-squared:')\n",
    "print(regr.score(X, Y))"
   ]
  },
  {
   "cell_type": "code",
   "execution_count": 50,
   "metadata": {},
   "outputs": [
    {
     "name": "stdout",
     "output_type": "stream",
     "text": [
      "AxesSubplot(0.125,0.125;0.62x0.755)\n"
     ]
    },
    {
     "data": {
      "image/png": "[encoded data removed]",
      "text/plain": [
       "<Figure size 432x288 with 2 Axes>"
      ]
     },
     "metadata": {
      "needs_background": "light"
     },
     "output_type": "display_data"
    }
   ],
   "source": [
    "df_heat = sns.heatmap(df.corr(), vmin=-1, vmax=1)\n",
    "\n",
    "print(df_heat)"
   ]
  },
  {
   "cell_type": "code",
   "execution_count": 51,
   "metadata": {},
   "outputs": [
    {
     "name": "stdout",
     "output_type": "stream",
     "text": [
      "With 20% Holdout: 0.8389605022984328\n",
      "Testing on Sample: 0.989412065019866\n"
     ]
    }
   ],
   "source": [
    "# Use train_test_split to create the necessary training and test groups\n",
    "X_train, X_test, y_train, y_test = train_test_split(X, Y, test_size=0.2, random_state=20)\n",
    "print('With 20% Holdout: ' + str(regr.fit(X_train, y_train).score(X_train, y_train)))\n",
    "print('Testing on Sample: ' + str(regr.fit(X, Y).score(X, Y)))"
   ]
  },
  {
   "cell_type": "markdown",
   "metadata": {},
   "source": [
    "## Mean squared Error:"
   ]
  },
  {
   "cell_type": "code",
   "execution_count": 52,
   "metadata": {},
   "outputs": [
    {
     "name": "stdout",
     "output_type": "stream",
     "text": [
      "Mean squared error: 280323.7527790352\n"
     ]
    }
   ],
   "source": [
    "#Mean Squared Error\n",
    "\n",
    "# Make predictions using the testing set\n",
    "y_pred = regr.predict(X_test)\n",
    "\n",
    "# The mean squared error\n",
    "print(\"Mean squared error: \" + str(mean_squared_error(y_test, y_pred)))"
   ]
  },
  {
   "cell_type": "markdown",
   "metadata": {},
   "source": [
    "# KNN REGRESSION MODEL:"
   ]
  },
  {
   "cell_type": "code",
   "execution_count": 53,
   "metadata": {},
   "outputs": [
    {
     "data": {
      "text/plain": [
       "KNeighborsRegressor(algorithm='auto', leaf_size=30, metric='minkowski',\n",
       "          metric_params=None, n_jobs=1, n_neighbors=10, p=2,\n",
       "          weights='distance')"
      ]
     },
     "execution_count": 53,
     "metadata": {},
     "output_type": "execute_result"
    }
   ],
   "source": [
    "from sklearn import neighbors\n",
    "\n",
    "# Build our model.\n",
    "knn = neighbors.KNeighborsRegressor(n_neighbors=10, weights='distance')\n",
    "X2 = df[['PopSquared', 'IndicateBurglary', 'IndicateLarceny', 'IndicateGTA', 'IndicateArson']]\n",
    "Y2 = df['Property\\ncrime'].astype(np.int)\n",
    "X2_train = X2.iloc[:278]\n",
    "Y2_train = Y2.iloc[:278]\n",
    "\n",
    "\n",
    "knn.fit(X2_train, Y2_train)\n",
    "\n"
   ]
  },
  {
   "cell_type": "code",
   "execution_count": 54,
   "metadata": {},
   "outputs": [
    {
     "name": "stdout",
     "output_type": "stream",
     "text": [
      "(348,)\n",
      "(348, 5)\n"
     ]
    }
   ],
   "source": [
    "print(Y2.shape)\n",
    "print(X2.shape)"
   ]
  },
  {
   "cell_type": "code",
   "execution_count": 55,
   "metadata": {},
   "outputs": [
    {
     "name": "stdout",
     "output_type": "stream",
     "text": [
      "[0.55572838 0.68023505 0.64122587 0.03454364 0.34655852]\n"
     ]
    }
   ],
   "source": [
    "from sklearn.model_selection import cross_val_score\n",
    "score = cross_val_score(knn, X2, Y2, cv=5)\n",
    "print(score)\n"
   ]
  },
  {
   "cell_type": "markdown",
   "metadata": {},
   "source": [
    "## Mean Squared Error"
   ]
  },
  {
   "cell_type": "code",
   "execution_count": 56,
   "metadata": {},
   "outputs": [
    {
     "name": "stdout",
     "output_type": "stream",
     "text": [
      "Mean squared error: 288801949.90290356\n"
     ]
    }
   ],
   "source": [
    "#Mean Squared Error\n",
    "\n",
    "X_test2 = X2.iloc[278:]\n",
    "Y_test2 = Y2.iloc[278:]\n",
    "\n",
    "# Make predictions using the testing set\n",
    "y_pred = regr.predict(X_test2)\n",
    "\n",
    "# The mean squared error\n",
    "print(\"Mean squared error: \" + str(mean_squared_error(y_test, y_pred)))"
   ]
  },
  {
   "cell_type": "markdown",
   "metadata": {},
   "source": [
    "### Generally if our data is in linear form, it will probably be better to use the OLS Linear regression model.  But if our data is in a nonlinear form, it will be better to use the KNN Regressor.\n",
    "\n",
    "\n",
    "### Our data in this example does not have a linear form to it, as you can see from the scatter plot below.  Comparing our models here, using our data, it seems like picking the OLS Linear Regression model is the better choice f, because the R-squared for the OLS regression is higher, at .84 vs. the R-squared from the KNN Regressor, is only .45.  But because our data is not linear, I would pick the KNN Regressor for this example.\n"
   ]
  },
  {
   "cell_type": "code",
   "execution_count": 57,
   "metadata": {},
   "outputs": [
    {
     "data": {
      "image/png": "[encoded data removed]",
      "text/plain": [
       "<Figure size 432x288 with 1 Axes>"
      ]
     },
     "metadata": {
      "needs_background": "light"
     },
     "output_type": "display_data"
    }
   ],
   "source": [
    "plt.scatter(df['IndicateBurglary'], df['Property\\ncrime'])\n",
    "plt.xlabel('Burglary')\n",
    "plt.ylabel('property crime')\n",
    "plt.ylim(Y.min(), Y.max())\n",
    "plt.show()"
   ]
  }
 ],
 "metadata": {
  "kernelspec": {
   "display_name": "Python 3",
   "language": "python",
   "name": "python3"
  },
  "language_info": {
   "codemirror_mode": {
    "name": "ipython",
    "version": 3
   },
   "file_extension": ".py",
   "mimetype": "text/x-python",
   "name": "python",
   "nbconvert_exporter": "python",
   "pygments_lexer": "ipython3",
   "version": "3.7.0"
  }
 },
 "nbformat": 4,
 "nbformat_minor": 2
}
